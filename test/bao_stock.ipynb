{
 "cells": [
  {
   "cell_type": "code",
   "execution_count": 83,
   "metadata": {},
   "outputs": [],
   "source": [
    "import pandas as pd\n",
    "import matplotlib.pyplot as plt\n",
    "from datetime import date"
   ]
  },
  {
   "cell_type": "code",
   "execution_count": 84,
   "metadata": {},
   "outputs": [
    {
     "data": {
      "text/plain": [
       "'2024-09-01'"
      ]
     },
     "execution_count": 84,
     "metadata": {},
     "output_type": "execute_result"
    }
   ],
   "source": [
    "# 获取今天的日期\n",
    "today = date.today()\n",
    "start_day = date(today.year, today.month-1,1)\n",
    "start_day = start_day.strftime('%Y-%m-%d')\n",
    "start_day"
   ]
  },
  {
   "cell_type": "code",
   "execution_count": 85,
   "metadata": {},
   "outputs": [],
   "source": [
    "data = pd.read_csv('../data/history_A_stock_k_data.csv')"
   ]
  },
  {
   "cell_type": "code",
   "execution_count": 86,
   "metadata": {},
   "outputs": [],
   "source": [
    "data = data[data.date>=start_day]\n",
    "data.set_index('date', inplace=True)"
   ]
  },
  {
   "cell_type": "code",
   "execution_count": 87,
   "metadata": {},
   "outputs": [
    {
     "data": {
      "text/html": [
       "<div>\n",
       "<style scoped>\n",
       "    .dataframe tbody tr th:only-of-type {\n",
       "        vertical-align: middle;\n",
       "    }\n",
       "\n",
       "    .dataframe tbody tr th {\n",
       "        vertical-align: top;\n",
       "    }\n",
       "\n",
       "    .dataframe thead th {\n",
       "        text-align: right;\n",
       "    }\n",
       "</style>\n",
       "<table border=\"1\" class=\"dataframe\">\n",
       "  <thead>\n",
       "    <tr style=\"text-align: right;\">\n",
       "      <th></th>\n",
       "      <th>code</th>\n",
       "      <th>open</th>\n",
       "      <th>high</th>\n",
       "      <th>low</th>\n",
       "      <th>close</th>\n",
       "      <th>preclose</th>\n",
       "      <th>volume</th>\n",
       "      <th>amount</th>\n",
       "      <th>adjustflag</th>\n",
       "      <th>turn</th>\n",
       "      <th>tradestatus</th>\n",
       "      <th>pctChg</th>\n",
       "      <th>isST</th>\n",
       "    </tr>\n",
       "    <tr>\n",
       "      <th>date</th>\n",
       "      <th></th>\n",
       "      <th></th>\n",
       "      <th></th>\n",
       "      <th></th>\n",
       "      <th></th>\n",
       "      <th></th>\n",
       "      <th></th>\n",
       "      <th></th>\n",
       "      <th></th>\n",
       "      <th></th>\n",
       "      <th></th>\n",
       "      <th></th>\n",
       "      <th></th>\n",
       "    </tr>\n",
       "  </thead>\n",
       "  <tbody>\n",
       "    <tr>\n",
       "      <th>2024-09-02</th>\n",
       "      <td>sh.000001</td>\n",
       "      <td>2832.3499</td>\n",
       "      <td>2839.2784</td>\n",
       "      <td>2810.3739</td>\n",
       "      <td>2811.0350</td>\n",
       "      <td>2842.2142</td>\n",
       "      <td>34071419300</td>\n",
       "      <td>3.148130e+11</td>\n",
       "      <td>3</td>\n",
       "      <td>0.746608</td>\n",
       "      <td>1</td>\n",
       "      <td>-1.097004</td>\n",
       "      <td>0.0</td>\n",
       "    </tr>\n",
       "    <tr>\n",
       "      <th>2024-09-03</th>\n",
       "      <td>sh.000001</td>\n",
       "      <td>2809.1733</td>\n",
       "      <td>2814.9030</td>\n",
       "      <td>2794.9111</td>\n",
       "      <td>2802.9787</td>\n",
       "      <td>2811.0350</td>\n",
       "      <td>27573613900</td>\n",
       "      <td>2.527825e+11</td>\n",
       "      <td>3</td>\n",
       "      <td>0.604221</td>\n",
       "      <td>1</td>\n",
       "      <td>-0.286596</td>\n",
       "      <td>0.0</td>\n",
       "    </tr>\n",
       "    <tr>\n",
       "      <th>2024-09-04</th>\n",
       "      <td>sh.000001</td>\n",
       "      <td>2786.5046</td>\n",
       "      <td>2800.6065</td>\n",
       "      <td>2781.9352</td>\n",
       "      <td>2784.2783</td>\n",
       "      <td>2802.9787</td>\n",
       "      <td>25745350000</td>\n",
       "      <td>2.347117e+11</td>\n",
       "      <td>3</td>\n",
       "      <td>0.564153</td>\n",
       "      <td>1</td>\n",
       "      <td>-0.667162</td>\n",
       "      <td>0.0</td>\n",
       "    </tr>\n",
       "    <tr>\n",
       "      <th>2024-09-05</th>\n",
       "      <td>sh.000001</td>\n",
       "      <td>2785.2635</td>\n",
       "      <td>2796.0186</td>\n",
       "      <td>2777.4710</td>\n",
       "      <td>2788.3141</td>\n",
       "      <td>2784.2783</td>\n",
       "      <td>24204094800</td>\n",
       "      <td>2.275145e+11</td>\n",
       "      <td>3</td>\n",
       "      <td>0.530359</td>\n",
       "      <td>1</td>\n",
       "      <td>0.144950</td>\n",
       "      <td>0.0</td>\n",
       "    </tr>\n",
       "    <tr>\n",
       "      <th>2024-09-06</th>\n",
       "      <td>sh.000001</td>\n",
       "      <td>2791.7645</td>\n",
       "      <td>2804.0932</td>\n",
       "      <td>2765.6394</td>\n",
       "      <td>2765.8066</td>\n",
       "      <td>2788.3141</td>\n",
       "      <td>25364537500</td>\n",
       "      <td>2.285701e+11</td>\n",
       "      <td>3</td>\n",
       "      <td>0.555784</td>\n",
       "      <td>1</td>\n",
       "      <td>-0.807208</td>\n",
       "      <td>0.0</td>\n",
       "    </tr>\n",
       "  </tbody>\n",
       "</table>\n",
       "</div>"
      ],
      "text/plain": [
       "                 code       open       high        low      close   preclose  \\\n",
       "date                                                                           \n",
       "2024-09-02  sh.000001  2832.3499  2839.2784  2810.3739  2811.0350  2842.2142   \n",
       "2024-09-03  sh.000001  2809.1733  2814.9030  2794.9111  2802.9787  2811.0350   \n",
       "2024-09-04  sh.000001  2786.5046  2800.6065  2781.9352  2784.2783  2802.9787   \n",
       "2024-09-05  sh.000001  2785.2635  2796.0186  2777.4710  2788.3141  2784.2783   \n",
       "2024-09-06  sh.000001  2791.7645  2804.0932  2765.6394  2765.8066  2788.3141   \n",
       "\n",
       "                 volume        amount  adjustflag      turn  tradestatus  \\\n",
       "date                                                                       \n",
       "2024-09-02  34071419300  3.148130e+11           3  0.746608            1   \n",
       "2024-09-03  27573613900  2.527825e+11           3  0.604221            1   \n",
       "2024-09-04  25745350000  2.347117e+11           3  0.564153            1   \n",
       "2024-09-05  24204094800  2.275145e+11           3  0.530359            1   \n",
       "2024-09-06  25364537500  2.285701e+11           3  0.555784            1   \n",
       "\n",
       "              pctChg  isST  \n",
       "date                        \n",
       "2024-09-02 -1.097004   0.0  \n",
       "2024-09-03 -0.286596   0.0  \n",
       "2024-09-04 -0.667162   0.0  \n",
       "2024-09-05  0.144950   0.0  \n",
       "2024-09-06 -0.807208   0.0  "
      ]
     },
     "execution_count": 87,
     "metadata": {},
     "output_type": "execute_result"
    }
   ],
   "source": [
    "data.head()"
   ]
  },
  {
   "cell_type": "code",
   "execution_count": 88,
   "metadata": {},
   "outputs": [
    {
     "data": {
      "text/plain": [
       "<Axes: title={'center': 'close price mean 2826.29'}, xlabel='date'>"
      ]
     },
     "execution_count": 88,
     "metadata": {},
     "output_type": "execute_result"
    },
    {
     "data": {
      "image/png": "[encoded data removed]",
      "text/plain": [
       "<Figure size 1500x500 with 1 Axes>"
      ]
     },
     "metadata": {},
     "output_type": "display_data"
    }
   ],
   "source": [
    "plt.figure(figsize=(15, 5))\n",
    "plt.title(f\"close price mean {data.close.mean():.2f}\")\n",
    "data.close.plot()"
   ]
  },
  {
   "cell_type": "code",
   "execution_count": null,
   "metadata": {},
   "outputs": [],
   "source": []
  }
 ],
 "metadata": {
  "kernelspec": {
   "display_name": "econ",
   "language": "python",
   "name": "python3"
  },
  "language_info": {
   "codemirror_mode": {
    "name": "ipython",
    "version": 3
   },
   "file_extension": ".py",
   "mimetype": "text/x-python",
   "name": "python",
   "nbconvert_exporter": "python",
   "pygments_lexer": "ipython3",
   "version": "3.11.9"
  }
 },
 "nbformat": 4,
 "nbformat_minor": 2
}
